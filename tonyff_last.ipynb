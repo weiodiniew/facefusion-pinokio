{
  "cells": [
    {
      "cell_type": "markdown",
      "metadata": {
        "id": "view-in-github",
        "colab_type": "text"
      },
      "source": [
        "<a href=\"https://colab.research.google.com/github/weiodiniew/facefusion-pinokio/blob/master/tonyff_last.ipynb\" target=\"_parent\"><img src=\"https://colab.research.google.com/assets/colab-badge.svg\" alt=\"Open In Colab\"/></a>"
      ]
    },
    {
      "cell_type": "markdown",
      "metadata": {
        "id": "6ZV95cvmGy3X"
      },
      "source": [
        "单图AI换脸！  \n",
        "\n",
        "可以使用图片去换图片，也可以用图片换视频。  \n",
        "\n",
        "使用方法，只要依次点击或者全部运行就可以了。运行成功点击网址打开即可使用。软件的具体使用可以参考[使用教程](https://www.tonyisstark.com/1863.html)。  \n",
        "\n",
        "\n",
        "注意事项：默默使用即可，不用分享，谷歌被刷多了开始各种限制了。\n",
        "  \n",
        "该脚本仅供学习研究，严禁用于违法违规的场景。"
      ]
    },
    {
      "cell_type": "code",
      "execution_count": null,
      "metadata": {
        "id": "LfXDWmk99Ntp",
        "cellView": "form"
      },
      "outputs": [],
      "source": [
        "#@title 1.获取代码\n",
        "\n",
        "tag = 'v3.6.0' #@param [\"v3.6.0\", ] {allow-input: true}\n",
        "\n",
        "!git clone https://github.com/dream80/tonyff.git\n",
        "%cd /content/tonyff\n",
        "!git checkout {tag}"
      ]
    },
    {
      "cell_type": "code",
      "execution_count": null,
      "metadata": {
        "id": "xRbseCrr-h_Q",
        "cellView": "form"
      },
      "outputs": [],
      "source": [
        "#@title 2.安装依赖\n",
        "\n",
        "%cd /content/tonyff\n",
        "!python install.py --skip-conda --onnxruntime cuda-12.2\n"
      ]
    },
    {
      "cell_type": "code",
      "execution_count": null,
      "metadata": {
        "id": "nll7dBV6-7yU",
        "cellView": "form",
        "outputId": "3ec1f60e-8451-4518-bd24-8a347dc9b86c",
        "colab": {
          "base_uri": "https://localhost:8080/"
        }
      },
      "outputs": [
        {
          "metadata": {
            "tags": null
          },
          "name": "stdout",
          "output_type": "stream",
          "text": [
            "Downloading: 100% 22.5M/22.5M [00:00<00:00, 46.1MB/s]\n",
            "Downloading: 100% 93.4M/93.4M [00:00<00:00, 131MB/s]\n",
            "Downloading: 100% 922k/922k [00:00<00:00, 3.36MB/s]\n",
            "Downloading: 100% 1.26M/1.26M [00:00<00:00, 4.62MB/s]\n",
            "Downloading: 100% 12.1M/12.1M [00:00<00:00, 33.7MB/s]\n",
            "Downloading: 100% 166M/166M [00:01<00:00, 145MB/s]\n",
            "Downloading: 100% 67.1M/67.1M [00:00<00:00, 85.9MB/s]\n",
            "Downloading: 100% 50.7M/50.7M [00:00<00:00, 97.9MB/s]\n",
            "Downloading: 100% 63.7M/63.7M [00:00<00:00, 130MB/s]\n",
            "Downloading: 100% 265M/265M [00:02<00:00, 110MB/s]\n",
            "IMPORTANT: You are using gradio version 3.50.2, however version 4.44.1 is available, please upgrade.\n",
            "--------\n",
            "IMPORTANT: You are using gradio version 3.50.2, however version 4.44.1 is available, please upgrade.\n",
            "--------\n",
            "IMPORTANT: You are using gradio version 3.50.2, however version 4.44.1 is available, please upgrade.\n",
            "--------\n",
            "IMPORTANT: You are using gradio version 3.50.2, however version 4.44.1 is available, please upgrade.\n",
            "--------\n",
            "IMPORTANT: You are using gradio version 3.50.2, however version 4.44.1 is available, please upgrade.\n",
            "--------\n",
            "IMPORTANT: You are using gradio version 3.50.2, however version 4.44.1 is available, please upgrade.\n",
            "--------\n",
            "IMPORTANT: You are using gradio version 3.50.2, however version 4.44.1 is available, please upgrade.\n",
            "--------\n",
            "IMPORTANT: You are using gradio version 3.50.2, however version 4.44.1 is available, please upgrade.\n",
            "--------\n",
            "IMPORTANT: You are using gradio version 3.50.2, however version 4.44.1 is available, please upgrade.\n",
            "--------\n",
            "IMPORTANT: You are using gradio version 3.50.2, however version 4.44.1 is available, please upgrade.\n",
            "--------\n",
            "IMPORTANT: You are using gradio version 3.50.2, however version 4.44.1 is available, please upgrade.\n",
            "--------\n",
            "IMPORTANT: You are using gradio version 3.50.2, however version 4.44.1 is available, please upgrade.\n",
            "--------\n",
            "IMPORTANT: You are using gradio version 3.50.2, however version 4.44.1 is available, please upgrade.\n",
            "--------\n",
            "IMPORTANT: You are using gradio version 3.50.2, however version 4.44.1 is available, please upgrade.\n",
            "--------\n",
            "IMPORTANT: You are using gradio version 3.50.2, however version 4.44.1 is available, please upgrade.\n",
            "--------\n",
            "IMPORTANT: You are using gradio version 3.50.2, however version 4.44.1 is available, please upgrade.\n",
            "--------\n",
            "IMPORTANT: You are using gradio version 3.50.2, however version 4.44.1 is available, please upgrade.\n",
            "--------\n",
            "IMPORTANT: You are using gradio version 3.50.2, however version 4.44.1 is available, please upgrade.\n",
            "--------\n",
            "Running on local URL:  http://127.0.0.1:7860\n",
            "Running on public URL: https://0834171fdd5bf6a0de.gradio.live\n",
            "Analysing: 100% 735/735 [00:04<00:00, 175.17frame/s, rate=61.2]\n"
          ]
        }
      ],
      "source": [
        "#@title 3.运行软件\n",
        "!python run.py"
      ]
    },
    {
      "cell_type": "markdown",
      "source": [
        "脚本来源：[tonyff](https://github.com/dream80/roop_colab)  \n",
        "原项目：[facefusion](https://github.com/facefusion/facefusion)  \n",
        "关联脚本：[roop](https://colab.research.google.com/github/dream80/roop_colab/blob/main/roop_v1_3.ipynb)\n",
        "\n",
        "\n",
        "\n",
        "公众号：托尼不是塔克  \n",
        "个人博客：[tonyisstark.com](https://www.tonyisstark.com)  "
      ],
      "metadata": {
        "id": "Rg6t68D_5BtS"
      }
    }
  ],
  "metadata": {
    "accelerator": "GPU",
    "colab": {
      "provenance": [],
      "gpuType": "T4",
      "include_colab_link": true
    },
    "kernelspec": {
      "display_name": "R",
      "name": "ir"
    },
    "language_info": {
      "name": "R"
    }
  },
  "nbformat": 4,
  "nbformat_minor": 0
}